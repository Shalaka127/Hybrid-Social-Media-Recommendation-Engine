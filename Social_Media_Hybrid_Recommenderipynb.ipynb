{
  "nbformat": 4,
  "nbformat_minor": 0,
  "metadata": {
    "colab": {
      "provenance": []
    },
    "kernelspec": {
      "name": "python3",
      "display_name": "Python 3"
    },
    "language_info": {
      "name": "python"
    }
  },
  "cells": [
    {
      "cell_type": "markdown",
      "source": [
        "#  Social Media Hybrid Recommender — Friend's Version\n",
        "\n"
      ],
      "metadata": {
        "id": "wCknS8Av3Pv4"
      }
    },
    {
      "cell_type": "markdown",
      "source": [
        "1 — Imports & seed"
      ],
      "metadata": {
        "id": "b9HSMmNZ3Ucp"
      }
    },
    {
      "cell_type": "code",
      "source": [
        "\n",
        "import numpy as np, pandas as pd, random\n",
        "from sklearn.feature_extraction.text import TfidfVectorizer\n",
        "from sklearn.preprocessing import OneHotEncoder, normalize\n",
        "from sklearn.decomposition import TruncatedSVD\n",
        "from sklearn.metrics.pairwise import cosine_similarity\n",
        "from scipy.sparse import csr_matrix, hstack\n",
        "import matplotlib.pyplot as plt\n",
        "random.seed(123); np.random.seed(123)\n"
      ],
      "metadata": {
        "id": "a2EERe-X3VWI"
      },
      "execution_count": 1,
      "outputs": []
    },
    {
      "cell_type": "markdown",
      "source": [
        "2 — Generate fake posts, users, ratings"
      ],
      "metadata": {
        "id": "XQLtFCJi3ZWJ"
      }
    },
    {
      "cell_type": "code",
      "source": [
        "\n",
        "def make_fake_social(n_users=300, n_items=800):\n",
        "    platforms = ['YouTube','Instagram','X','Snapchat','Facebook']\n",
        "    topics = ['tech','travel','food','sports','fashion','music','education']\n",
        "    items = []\n",
        "    for i in range(n_items):\n",
        "        p = random.choice(platforms)\n",
        "        t = random.choice(topics)\n",
        "        txt = f\"{p} {t} post {i} #{t} #{p.lower()}\"\n",
        "        items.append({'id': i, 'platform': p, 'topic': t, 'title': f\"{p} {t} post {i}\", 'content': txt})\n",
        "    items_df = pd.DataFrame(items)\n",
        "\n",
        "    interactions = []\n",
        "    for u in range(n_users):\n",
        "        k = random.randint(30,80)\n",
        "        sampled = np.random.choice(n_items, k, replace=False)\n",
        "        fav = random.choice(topics)\n",
        "        for it in sampled:\n",
        "            val = 3.0 + np.random.randn()*0.6\n",
        "            if items_df.loc[it,'topic'] == fav:\n",
        "                val += abs(np.random.randn()) * 1.0\n",
        "            rating = float(min(5.0, max(1.0, round(val,1))))\n",
        "            interactions.append({'user': u, 'item': it, 'score': rating})\n",
        "    interactions_df = pd.DataFrame(interactions)\n",
        "    return items_df, interactions_df\n",
        "\n",
        "items_df, interactions_df = make_fake_social()\n",
        "print(items_df.shape, interactions_df.shape)\n"
      ],
      "metadata": {
        "colab": {
          "base_uri": "https://localhost:8080/"
        },
        "id": "upX7m8FL3Z5R",
        "outputId": "6fe35344-2251-4c7a-aaa0-da0ab724bde6"
      },
      "execution_count": 2,
      "outputs": [
        {
          "output_type": "stream",
          "name": "stdout",
          "text": [
            "(800, 5) (16673, 3)\n"
          ]
        }
      ]
    },
    {
      "cell_type": "markdown",
      "source": [
        "3 — Create sparse interaction matrix"
      ],
      "metadata": {
        "id": "eMe-V1AU3ckx"
      }
    },
    {
      "cell_type": "code",
      "source": [
        "\n",
        "def build_matrix(inter_df, n_users=None, n_items=None):\n",
        "    if n_users is None:\n",
        "        n_users = inter_df['user'].max() + 1\n",
        "    if n_items is None:\n",
        "        n_items = inter_df['item'].max() + 1\n",
        "    mat = csr_matrix((inter_df['score'].values, (inter_df['user'].values, inter_df['item'].values)),\n",
        "                     shape=(n_users, n_items))\n",
        "    return mat\n",
        "\n",
        "M = build_matrix(interactions_df)\n",
        "print(\"Interaction matrix:\", M.shape)\n"
      ],
      "metadata": {
        "colab": {
          "base_uri": "https://localhost:8080/"
        },
        "id": "9MSLT6xU3dY6",
        "outputId": "22d63811-950d-4023-c53d-ef8f1e72ca09"
      },
      "execution_count": 3,
      "outputs": [
        {
          "output_type": "stream",
          "name": "stdout",
          "text": [
            "Interaction matrix: (300, 800)\n"
          ]
        }
      ]
    },
    {
      "cell_type": "markdown",
      "source": [
        "4 — Train a low-rank SVD model for CF"
      ],
      "metadata": {
        "id": "5C-9rBlz3rfp"
      }
    },
    {
      "cell_type": "code",
      "source": [
        "\n",
        "def fit_svd(M_csr, k=40):\n",
        "    dense = M_csr.toarray()\n",
        "    # user mean centering\n",
        "    means = np.where(dense.sum(axis=1)!=0, dense.sum(axis=1)/(dense!=0).sum(axis=1), 0)\n",
        "    centered = dense - means.reshape(-1,1)\n",
        "    svd = TruncatedSVD(n_components=k, random_state=123)\n",
        "    U = svd.fit_transform(centered)\n",
        "    V = svd.components_.T\n",
        "    return U, V, means\n",
        "\n",
        "U_fac, V_fac, u_means = fit_svd(M, k=40)\n"
      ],
      "metadata": {
        "id": "VIs2fZbN3sDy"
      },
      "execution_count": 4,
      "outputs": []
    },
    {
      "cell_type": "markdown",
      "source": [
        "5 — Content vectors (TF-IDF + metadata)"
      ],
      "metadata": {
        "id": "y6xzWx0O3uvo"
      }
    },
    {
      "cell_type": "code",
      "source": [
        "\n",
        "def item_content_vectors(items_df, tfidf_features=1500):\n",
        "    tf = TfidfVectorizer(max_features=tfidf_features, stop_words='english')\n",
        "    txt_mat = tf.fit_transform(items_df['content'].fillna(''))\n",
        "\n",
        "    # handle sklearn version differences\n",
        "    try:\n",
        "        enc = OneHotEncoder(sparse_output=False)  # ✅ for new versions\n",
        "    except TypeError:\n",
        "        enc = OneHotEncoder(sparse=False)         # fallback for older versions\n",
        "\n",
        "    meta_mat = enc.fit_transform(items_df[['platform','topic']])\n",
        "    combined = hstack([txt_mat, csr_matrix(meta_mat)])\n",
        "    combined = normalize(combined, axis=1)\n",
        "    return combined, tf, enc\n",
        "\n",
        "item_vecs, tf_model, enc_model = item_content_vectors(items_df)\n",
        "print(\"Item vectors:\", item_vecs.shape)\n"
      ],
      "metadata": {
        "colab": {
          "base_uri": "https://localhost:8080/"
        },
        "id": "y3MJMB0J3wFy",
        "outputId": "e06b0c41-2328-4a12-aa85-84d23ef27512"
      },
      "execution_count": 6,
      "outputs": [
        {
          "output_type": "stream",
          "name": "stdout",
          "text": [
            "Item vectors: (800, 814)\n"
          ]
        }
      ]
    },
    {
      "cell_type": "markdown",
      "source": [
        "6 — Helper: build user content vector"
      ],
      "metadata": {
        "id": "gf1cHsVq3-Hp"
      }
    },
    {
      "cell_type": "code",
      "source": [
        "\n",
        "def build_profile(user_id, inter_df, item_vecs, min_rating=4.0):\n",
        "    liked = inter_df[(inter_df['user']==user_id) & (inter_df['score']>=min_rating)]['item'].values\n",
        "    if len(liked)==0:\n",
        "        return np.array(item_vecs.mean(axis=0)).ravel()\n",
        "    else:\n",
        "        return np.array(item_vecs[liked].mean(axis=0)).ravel()\n"
      ],
      "metadata": {
        "id": "x_8F_J853_Gy"
      },
      "execution_count": 7,
      "outputs": []
    },
    {
      "cell_type": "markdown",
      "source": [
        "7 — Hybrid scoring & recommendation (alpha default 0.55)"
      ],
      "metadata": {
        "id": "C7hP2L574BOp"
      }
    },
    {
      "cell_type": "code",
      "source": [
        "\n",
        "def recommend_for_user(uid, top_n=10, alpha=0.55):\n",
        "    # CF raw predictions\n",
        "    cf_raw = U_fac[uid].dot(V_fac.T) + u_means[uid]\n",
        "    # CBF similarity against user profile\n",
        "    profile = build_profile(uid, interactions_df, item_vecs)\n",
        "    cbf_raw = cosine_similarity(profile.reshape(1,-1), item_vecs).ravel()\n",
        "    # normalize\n",
        "    cf_n = (cf_raw - cf_raw.min()) / (cf_raw.max() - cf_raw.min() + 1e-9)\n",
        "    cbf_n = (cbf_raw - cbf_raw.min()) / (cbf_raw.max() - cbf_raw.min() + 1e-9)\n",
        "    hybrid_score = alpha * cf_n + (1-alpha) * cbf_n\n",
        "    seen = set(interactions_df[interactions_df['user']==uid]['item'].tolist())\n",
        "    candidates = [(i, hybrid_score[i]) for i in range(len(hybrid_score)) if i not in seen]\n",
        "    top = sorted(candidates, key=lambda x: x[1], reverse=True)[:top_n]\n",
        "    recs = pd.DataFrame([{'item':i, 'rank_score':s} for i,s in top])\n",
        "    recs = recs.merge(items_df, left_on='item', right_on='id', how='left')\n",
        "    return recs\n",
        "\n",
        "# Example\n",
        "print(recommend_for_user(7, top_n=8))\n"
      ],
      "metadata": {
        "colab": {
          "base_uri": "https://localhost:8080/"
        },
        "id": "ylmWAh8f4CSJ",
        "outputId": "725bfd3b-33b1-4c22-ff09-e347f20a2835"
      },
      "execution_count": 8,
      "outputs": [
        {
          "output_type": "stream",
          "name": "stdout",
          "text": [
            "   item  rank_score   id   platform    topic                       title  \\\n",
            "0   285    0.811553  285  Instagram  fashion  Instagram fashion post 285   \n",
            "1    45    0.777549   45  Instagram  fashion   Instagram fashion post 45   \n",
            "2   292    0.723355  292  Instagram    music    Instagram music post 292   \n",
            "3   633    0.710576  633  Instagram    music    Instagram music post 633   \n",
            "4    36    0.695844   36  Instagram    music     Instagram music post 36   \n",
            "5   648    0.684381  648  Instagram    music    Instagram music post 648   \n",
            "6    80    0.679075   80  Instagram    music     Instagram music post 80   \n",
            "7   766    0.662199  766  Instagram    music    Instagram music post 766   \n",
            "\n",
            "                                          content  \n",
            "0  Instagram fashion post 285 #fashion #instagram  \n",
            "1   Instagram fashion post 45 #fashion #instagram  \n",
            "2      Instagram music post 292 #music #instagram  \n",
            "3      Instagram music post 633 #music #instagram  \n",
            "4       Instagram music post 36 #music #instagram  \n",
            "5      Instagram music post 648 #music #instagram  \n",
            "6       Instagram music post 80 #music #instagram  \n",
            "7      Instagram music post 766 #music #instagram  \n"
          ]
        }
      ]
    },
    {
      "cell_type": "markdown",
      "source": [
        "8 — Quick plots to illustrate results"
      ],
      "metadata": {
        "id": "XHR0EyIW4Exh"
      }
    },
    {
      "cell_type": "code",
      "source": [
        "\n",
        "def show_rating_hist(inter_df):\n",
        "    plt.figure(figsize=(6,4))\n",
        "    inter_df['score'].hist(bins=9)\n",
        "    plt.title(\"Rating histogram\"); plt.xlabel(\"Score\"); plt.show()\n",
        "\n",
        "show_rating_hist(interactions_df)\n",
        "\n",
        "# show distribution of topics among top recs for a user\n",
        "r = recommend_for_user(7, top_n=12)\n",
        "r['topic'].value_counts().plot(kind='bar', title='Topic counts in top recs (user 7)')\n",
        "plt.show()\n"
      ],
      "metadata": {
        "colab": {
          "base_uri": "https://localhost:8080/",
          "height": 901
        },
        "id": "Q9jS0ORZ4Fjh",
        "outputId": "be04710c-8de0-4f91-aa7b-7bcae4a439d7"
      },
      "execution_count": 9,
      "outputs": [
        {
          "output_type": "display_data",
          "data": {
            "text/plain": [
              "<Figure size 600x400 with 1 Axes>"
            ],
            "image/png": "[encoded data removed]"
          },
          "metadata": {}
        },
        {
          "output_type": "display_data",
          "data": {
            "text/plain": [
              "<Figure size 640x480 with 1 Axes>"
            ],
            "image/png": "[encoded data removed]"
          },
          "metadata": {}
        }
      ]
    }
  ]
}